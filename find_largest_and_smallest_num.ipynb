{
 "cells": [
  {
   "cell_type": "markdown",
   "id": "ec81b66d",
   "metadata": {},
   "source": [
    "# 🍫 | Python 🐍\n",
    "\n",
    "### A simple program that asks the user to type a variety of numbers and when they type \"done\" the program will print out the largest and smallest number"
   ]
  },
  {
   "cell_type": "code",
   "execution_count": 1,
   "id": "ab338308",
   "metadata": {},
   "outputs": [
    {
     "name": "stdout",
     "output_type": "stream",
     "text": [
      "Enter a number >  4\n",
      "Enter a number >  8\n",
      "Enter a number >  12\n",
      "Enter a number >  55\n",
      "Enter a number >  900\n",
      "Enter a number >  -4\n",
      "Enter a number >  0\n",
      "Enter a number >  done\n",
      "Smallest number: -4\n",
      "Largest number: 900\n"
     ]
    }
   ],
   "source": [
    "smallest_num = None\n",
    "largest_num = None\n",
    "done_yet = False\n",
    "\n",
    "while not done_yet:\n",
    "    \n",
    "    user_input = input('Enter a number >  ')\n",
    "\n",
    "    if user_input == 'done':\n",
    "        break\n",
    "    \n",
    "    try:\n",
    "        user_input = int(user_input)\n",
    "        \n",
    "        if smallest_num == None or user_input < smallest_num:\n",
    "            smallest_num = user_input\n",
    "        elif largest_num == None or user_input > largest_num:\n",
    "            largest_num = user_input\n",
    "    except:\n",
    "        print('Please use numbers only!')\n",
    "\n",
    "print('Smallest number:', smallest_num)\n",
    "print('Largest number:', largest_num)"
   ]
  }
 ],
 "metadata": {
  "kernelspec": {
   "display_name": "Python 3 (ipykernel)",
   "language": "python",
   "name": "python3"
  },
  "language_info": {
   "codemirror_mode": {
    "name": "ipython",
    "version": 3
   },
   "file_extension": ".py",
   "mimetype": "text/x-python",
   "name": "python",
   "nbconvert_exporter": "python",
   "pygments_lexer": "ipython3",
   "version": "3.9.13"
  }
 },
 "nbformat": 4,
 "nbformat_minor": 5
}
